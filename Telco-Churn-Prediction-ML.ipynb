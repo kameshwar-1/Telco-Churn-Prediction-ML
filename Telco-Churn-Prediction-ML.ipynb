{
 "cells": [
  {
   "cell_type": "code",
   "execution_count": 50,
   "id": "00974575",
   "metadata": {},
   "outputs": [
    {
     "name": "stdout",
     "output_type": "stream",
     "text": [
      "['customerID', 'gender', 'SeniorCitizen', 'Partner', 'Dependents', 'tenure', 'PhoneService', 'MultipleLines', 'InternetService', 'OnlineSecurity', 'OnlineBackup', 'DeviceProtection', 'TechSupport', 'StreamingTV', 'StreamingMovies', 'Contract', 'PaperlessBilling', 'PaymentMethod', 'MonthlyCharges', 'TotalCharges', 'Churn']\n",
      "['customerid', 'gender', 'seniorcitizen', 'partner', 'dependents', 'tenure', 'phoneservice', 'multiplelines', 'internetservice', 'onlinesecurity', 'onlinebackup', 'deviceprotection', 'techsupport', 'streamingtv', 'streamingmovies', 'contract', 'paperlessbilling', 'paymentmethod', 'monthlycharges', 'totalcharges', 'churn']\n"
     ]
    }
   ],
   "source": [
    "import pandas as pd \n",
    "df = pd.read_csv(\"Telco-Customer-Churn.csv\")\n",
    "print(df.columns.tolist())\n",
    "df.columns = df.columns.str.strip().str.lower()\n",
    "print(df.columns.tolist())\n"
   ]
  },
  {
   "cell_type": "code",
   "execution_count": 51,
   "id": "aa5fe8c1",
   "metadata": {},
   "outputs": [
    {
     "name": "stdout",
     "output_type": "stream",
     "text": [
      "['gender', 'seniorcitizen', 'partner', 'dependents', 'tenure', 'phoneservice', 'multiplelines', 'internetservice', 'onlinesecurity', 'onlinebackup', 'deviceprotection', 'techsupport', 'streamingtv', 'streamingmovies', 'contract', 'paperlessbilling', 'paymentmethod', 'monthlycharges', 'totalcharges', 'churn']\n",
      "Shape: (7032, 20)\n",
      "Missing values removed: 11\n",
      "Target balance (churn rate):\n",
      "churn\n",
      "no     0.734215\n",
      "yes    0.265785\n",
      "Name: proportion, dtype: float64\n",
      "\n",
      "Sample rows:\n",
      "   gender  seniorcitizen partner dependents  tenure phoneservice  \\\n",
      "0  female              0     yes         no       1           no   \n",
      "1    male              0      no         no      34          yes   \n",
      "2    male              0      no         no       2          yes   \n",
      "\n",
      "      multiplelines internetservice onlinesecurity onlinebackup  \\\n",
      "0  no phone service             dsl             no          yes   \n",
      "1                no             dsl            yes           no   \n",
      "2                no             dsl            yes          yes   \n",
      "\n",
      "  deviceprotection techsupport streamingtv streamingmovies        contract  \\\n",
      "0               no          no          no              no  month-to-month   \n",
      "1              yes          no          no              no        one year   \n",
      "2               no          no          no              no  month-to-month   \n",
      "\n",
      "  paperlessbilling     paymentmethod  monthlycharges  totalcharges  churn  \n",
      "0              yes  electronic check           29.85         29.85      0  \n",
      "1               no      mailed check           56.95       1889.50      0  \n",
      "2              yes      mailed check           53.85        108.15      1  \n"
     ]
    }
   ],
   "source": [
    "from sklearn.model_selection import train_test_split \n",
    "import numpy as np\n",
    "\n",
    "# Normalize column names too\n",
    "df.columns = df.columns.str.strip().str.lower()\n",
    "\n",
    "# FIX: after lowercasing, it's \"customerid\"\n",
    "if \"customerid\" in df.columns:\n",
    "    df = df.drop(columns=[\"customerid\"])\n",
    "\n",
    "# Strip whitespace on ALL string columns (avoids \"No \" vs \"No\")\n",
    "obj_cols = df.select_dtypes(include=\"object\").columns\n",
    "df[obj_cols] = df[obj_cols].apply(lambda s: s.str.strip())\n",
    "\n",
    "# Normalize case on ALL string columns (so \"YES\", \"Yes\", \"yes\" are identical)\n",
    "df[obj_cols] = df[obj_cols].apply(lambda s: s.str.lower())\n",
    "\n",
    "# FIX: convert empty strings to NaN (prevents dataset wipe)\n",
    "df.replace(\"\", np.nan, inplace=True)\n",
    "\n",
    "print(df.columns.tolist())\n",
    "\n",
    "# Convert TotalCharges\n",
    "if \"totalcharges\" in df.columns:\n",
    "    df[\"totalcharges\"] = pd.to_numeric(df[\"totalcharges\"], errors=\"coerce\")\n",
    "\n",
    "assert \"churn\" in df.columns, \"Expected 'Churn' column not found.\"\n",
    "\n",
    "# Keep only valid churn values\n",
    "df = df[df[\"churn\"].isin([\"yes\", \"no\"])].copy()\n",
    "\n",
    "# Encode target\n",
    "df[\"churn\"] = df[\"churn\"].map({\"yes\": 1, \"no\": 0})\n",
    "\n",
    "# Check missing\n",
    "missing_before = df.isna().sum().sum()\n",
    "\n",
    "# Handling missing data\n",
    "df = df.dropna().reset_index(drop=True)\n",
    "\n",
    "missing_after = df.isna().sum().sum()\n",
    "\n",
    "# Final X, y\n",
    "X = df.drop(columns=[\"churn\"])\n",
    "y = df[\"churn\"]\n",
    "\n",
    "print(\"Shape:\", df.shape)\n",
    "print(\"Missing values removed:\", missing_before - missing_after)\n",
    "print(\"Target balance (churn rate):\")\n",
    "print(y.value_counts(normalize=True).rename({0: \"no\", 1: \"yes\"}))\n",
    "print(\"\\nSample rows:\")\n",
    "print(df.head(3))\n"
   ]
  },
  {
   "cell_type": "code",
   "execution_count": 52,
   "id": "1f43a8c0",
   "metadata": {},
   "outputs": [
    {
     "name": "stdout",
     "output_type": "stream",
     "text": [
      "Train: (4219, 19) 0.2657027731689974\n",
      "val: (1406, 19) 0.26600284495021337\n",
      "Test:  (1407, 19) 0.2658137882018479\n"
     ]
    }
   ],
   "source": [
    "#train/validation and /test split\n",
    "from sklearn.model_selection import train_test_split \n",
    "\n",
    "#split into train temp and test\n",
    "#here first spplit in to temp = 40 =% and train  = 60%\n",
    "x_train,x_temp,y_train,y_temp = train_test_split(X,y,test_size = 0.4,stratify=y,random_state = 42)\n",
    "#split the data into noe test and validation from temp data\n",
    "x_val,x_test,y_val,y_test = train_test_split(x_temp,y_temp,test_size = 0.5,stratify=y_temp,random_state=42)\n",
    "print(\"Train:\",x_train.shape,y_train.mean())\n",
    "print(\"val:\",x_val.shape,y_val.mean())\n",
    "print(\"Test: \",x_test.shape,y_test.mean())"
   ]
  },
  {
   "cell_type": "code",
   "execution_count": 53,
   "id": "1763284b",
   "metadata": {},
   "outputs": [
    {
     "name": "stdout",
     "output_type": "stream",
     "text": [
      "\n",
      " === Majority (most_frequent) ===\n",
      "Accuracy : 0.734\n",
      "Precision:  0.0\n",
      "recall:  0.0\n",
      "F1 :  0.0\n",
      "ROC_AUC :  0.5\n",
      "confusion_matrix:\n",
      " [[1032    0]\n",
      " [ 374    0]]\n",
      "\n",
      " === random(stratified) ===\n",
      "Accuracy : 0.605\n",
      "Precision:  0.259\n",
      "recall:  0.259\n",
      "F1 :  0.259\n",
      "ROC_AUC :  0.495\n",
      "confusion_matrix:\n",
      " [[754 278]\n",
      " [277  97]]\n"
     ]
    }
   ],
   "source": [
    "#base model which  is good and nml \n",
    "from sklearn.dummy import DummyClassifier\n",
    "from sklearn.metrics import( accuracy_score, precision_score,recall_score,f1_score,roc_auc_score, confusion_matrix)\n",
    "import numpy as np\n",
    "def eva_baseline(model,x_val,y_val,name = \"\"):\n",
    "    y_pred = model.predict(x_val)\n",
    "    # For ROC-AUC we need probabilities; handle models that don't expose predict_proba (most_frequent)\n",
    "    roc = None\n",
    "    if hasattr(model, \"predict_proba\"):\n",
    "        y_proba = model.predict_proba(x_val)[:, 1]\n",
    "        roc = roc_auc_score(y_val, y_proba)\n",
    "    acc = accuracy_score(y_val,y_pred)\n",
    "    prec = precision_score(y_val,y_pred, zero_division = 0)\n",
    "    rec = recall_score(y_val,y_pred,zero_division = 0)\n",
    "    f1 = f1_score(y_val,y_pred,zero_division = 0)\n",
    "    cm  = confusion_matrix(y_val,y_pred)\n",
    "\n",
    "    print(f\"\\n === {name} ===\")\n",
    "    print(\"Accuracy :\", round(acc,3))\n",
    "    print(\"Precision: \",round(prec,3))\n",
    "    print(\"recall: \",round(rec,3))\n",
    "    print(\"F1 : \",round(f1,3))\n",
    "    if roc is not None:\n",
    "       print(\"ROC_AUC : \", round(roc,3))\n",
    "    print(\"confusion_matrix:\\n\",cm)\n",
    "# majority basline always predict the modt frequent class(\"no churn\")\n",
    "dummy_majority = DummyClassifier(strategy = \"most_frequent\")\n",
    "dummy_majority.fit(x_train,y_train)\n",
    "eva_baseline(dummy_majority,x_val,y_val,name=\"Majority (most_frequent)\")\n",
    "# random baseline predict according to class distribution \n",
    "dummy_random = DummyClassifier(strategy = \"stratified\", random_state = 42)\n",
    "dummy_random.fit(x_train,y_train)\n",
    "eva_baseline(dummy_random,x_val,y_val,name = \"random(stratified)\")\n",
    "\n"
   ]
  },
  {
   "cell_type": "code",
   "execution_count": 54,
   "id": "d1392f50",
   "metadata": {},
   "outputs": [
    {
     "name": "stdout",
     "output_type": "stream",
     "text": [
      "categorical features:  ['gender', 'partner', 'dependents', 'phoneservice', 'multiplelines', 'internetservice', 'onlinesecurity', 'onlinebackup', 'deviceprotection', 'techsupport', 'streamingtv', 'streamingmovies', 'contract', 'paperlessbilling', 'paymentmethod']\n",
      "Numeric_features:  ['seniorcitizen', 'tenure', 'monthlycharges', 'totalcharges']\n",
      "Best C: 10\n",
      "Best cv ROC-AUC (train): 0.846\n",
      "\n",
      " === validation results ===\n",
      "Accuracy : 0.733\n",
      "Precision: 0.499\n",
      "Recall:  0.797\n",
      "F1 : 0.614\n",
      "Roc_auc : 0.834\n",
      "cofusion Matrix:\n",
      " [[733 299]\n",
      " [ 76 298]]\n"
     ]
    }
   ],
   "source": [
    "#Our real model Preprocessing + logictic regression \n",
    "from sklearn.preprocessing import  OneHotEncoder,StandardScaler\n",
    "from sklearn.compose import ColumnTransformer\n",
    "from sklearn.pipeline import Pipeline\n",
    "from sklearn.linear_model import LogisticRegression\n",
    "from sklearn.model_selection import GridSearchCV\n",
    "from sklearn.metrics import ( accuracy_score,precision_score,recall_score,f1_score,roc_auc_score,confusion_matrix)\n",
    "import numpy as np \n",
    "\n",
    "#identify numerical and categorical  columns\n",
    "categorical_cols = x_train.select_dtypes(include = [\"object\"]).columns.tolist()\n",
    "numeric_cols = x_train.select_dtypes(exclude = [\"object\"]).columns.tolist()\n",
    "print(\"categorical features: \",categorical_cols)\n",
    "print(\"Numeric_features: \", numeric_cols)\n",
    "#preprocessor ONe hot  for categoricals scale for numerics\n",
    "preprocessor = ColumnTransformer(transformers = [(\"cat\", OneHotEncoder(handle_unknown = \"ignore\"),categorical_cols),(\"num\",StandardScaler(),numeric_cols)])\n",
    "# build pipeline\n",
    "pipe = Pipeline(steps = [(\"preprocess\",preprocessor),(\"logreg\",LogisticRegression(max_iter = 1000,class_weight =\"balanced\", solver = \"lbfgs\"))])\n",
    "\n",
    "#value of C for regularization \n",
    "param_grid = {\"logreg__C\":[0.01,0.1,0.5,1 ,3, 10]}\n",
    "grid = GridSearchCV(pipe,param_grid,scoring = \"roc_auc\",cv = 5,n_jobs = -1)\n",
    "\n",
    "#fit on the train set \n",
    "grid.fit(x_train,y_train)\n",
    "print(\"Best C:\",grid.best_params_[\"logreg__C\"])\n",
    "print(\"Best cv ROC-AUC (train):\", round(grid.best_score_,3))\n",
    "\n",
    "#Evaluate on validation  set \n",
    "best_model = grid.best_estimator_\n",
    "y_pred = best_model.predict(x_val)\n",
    "y_proba = best_model.predict_proba(x_val)[:, 1]\n",
    "\n",
    "print(\"\\n === validation results ===\")\n",
    "print(\"Accuracy :\", round(accuracy_score(y_val,y_pred),3))\n",
    "print(\"Precision:\",round(precision_score(y_val,y_pred),3))\n",
    "print(\"Recall: \",round(recall_score(y_val, y_pred),3 ))\n",
    "print(\"F1 :\",round(f1_score(y_val,y_pred),3))\n",
    "print(\"Roc_auc :\",round(roc_auc_score(y_val,y_proba),3))\n",
    "\n",
    "cm = confusion_matrix(y_val,y_pred)\n",
    "print(\"cofusion Matrix:\\n\", cm)\n",
    "\n"
   ]
  },
  {
   "cell_type": "code",
   "execution_count": 55,
   "id": "3f081852",
   "metadata": {},
   "outputs": [
    {
     "name": "stdout",
     "output_type": "stream",
     "text": [
      "Majority baseline acc: 0.734 | recall: 0.0\n",
      "Random baseline acc  : 0.605 | roc-auc: 0.495\n",
      "Logistic ROC-AUC: 0.834\n",
      "Logistic Recall : 0.797\n",
      "Logistic Acc    : 0.733\n"
     ]
    }
   ],
   "source": [
    "#comparing the Pipeline \n",
    "#majority baseline on val \n",
    "from sklearn.dummy import DummyClassifier\n",
    "dummy_majority = DummyClassifier(strategy = \"most_frequent\")\n",
    "dummy_majority.fit(x_train,y_train)\n",
    "maj_acc = accuracy_score(y_val,dummy_majority.predict(x_val))\n",
    "\n",
    "# random baseline on val\n",
    "dummy_random = DummyClassifier(strategy = \"stratified\", random_state = 42)\n",
    "dummy_random.fit(x_train,y_train)\n",
    "rand_acc = accuracy_score(y_val,dummy_random.predict(x_val))\n",
    "rand_roc = roc_auc_score(y_val,dummy_random.predict_proba(x_val)[:,1])\n",
    "\n",
    "print(\"Majority baseline acc:\", round(maj_acc,3), \"| recall:\", recall_score(y_val, dummy_majority.predict(x_val)))\n",
    "print(\"Random baseline acc  :\", round(rand_acc,3), \"| roc-auc:\", round(rand_roc,3))\n",
    "\n",
    "# logistic regression results already computed earlier\n",
    "print(\"Logistic ROC-AUC:\", round(roc_auc_score(y_val, y_proba),3))\n",
    "print(\"Logistic Recall :\", round(recall_score(y_val, y_pred),3))\n",
    "print(\"Logistic Acc    :\", round(accuracy_score(y_val, y_pred),3))\n"
   ]
  },
  {
   "cell_type": "code",
   "execution_count": 56,
   "id": "c960e12e",
   "metadata": {},
   "outputs": [
    {
     "name": "stdout",
     "output_type": "stream",
     "text": [
      "Refitting final model with C = 10\n",
      "\n",
      "FINAL TEST RESULTS: \n",
      "Accuracy : 0.739\n",
      "Precision: 0.506\n",
      "Recall  : 0.829\n",
      "F1 : 0.628\n",
      "ROC-AUC : 0.847\n",
      "Confusion Matrix:\n",
      " [[730 303]\n",
      " [ 64 310]]\n"
     ]
    },
    {
     "data": {
      "image/png": "[encoded data removed]",
      "text/plain": [
       "<Figure size 640x480 with 1 Axes>"
      ]
     },
     "metadata": {},
     "output_type": "display_data"
    }
   ],
   "source": [
    "from sklearn.preprocessing import OneHotEncoder, StandardScaler\n",
    "from sklearn.compose import ColumnTransformer\n",
    "from sklearn.pipeline import Pipeline\n",
    "from sklearn.linear_model import LogisticRegression\n",
    "from sklearn.metrics import (accuracy_score, precision_score, recall_score, f1_score,roc_auc_score, confusion_matrix, RocCurveDisplay)\n",
    "import numpy as np\n",
    "import matplotlib.pyplot as plt\n",
    "\n",
    "#Combine train +val\n",
    "x_tv = pd.concat([x_train,x_val],axis = 0).reset_index(drop=True)\n",
    "y_tv = pd.concat([y_train,y_val],axis = 0).reset_index(drop=True)\n",
    "\n",
    "# rebuild the same preprocessor(cat one-hot+num scale)\n",
    "categorical_cols = x_tv.select_dtypes(include=[\"object\"]).columns.tolist()\n",
    "numeric_cols = x_tv.select_dtypes(exclude=[\"object\"]).columns.tolist()\n",
    "\n",
    "preprocessor = ColumnTransformer(transformers=[(\"cat\", OneHotEncoder(handle_unknown=\"ignore\"), categorical_cols),(\"num\", StandardScaler(), numeric_cols)])\n",
    "#Use best C from your previous GridSearch on validation\n",
    "best_C = grid.best_params_[\"logreg__C\"]  # from Step 6\n",
    "print(\"Refitting final model with C =\", best_C)\n",
    "\n",
    "\n",
    "#final model\n",
    "final_model = Pipeline(steps = [(\"preprocess\",preprocessor),(\"logreg\",LogisticRegression(max_iter = 1000,class_weight = \"balanced\",solver = \"lbfgs\",C=best_C))] )\n",
    "\n",
    "# fit on train +val\n",
    "final_model.fit(x_tv,y_tv)\n",
    "\n",
    "# Evaluate ONCE on the untouched Test set\n",
    "y_pred_test  = final_model.predict(x_test)\n",
    "y_proba_test = final_model.predict_proba(x_test)[:, 1]\n",
    "\n",
    "acc  = accuracy_score(y_test, y_pred_test)\n",
    "prec = precision_score(y_test, y_pred_test, zero_division=0)\n",
    "rec  = recall_score(y_test, y_pred_test, zero_division=0)\n",
    "f1   = f1_score(y_test, y_pred_test, zero_division=0)\n",
    "auc  = roc_auc_score(y_test, y_proba_test)\n",
    "cm   = confusion_matrix(y_test, y_pred_test)\n",
    "\n",
    "print(\"\\nFINAL TEST RESULTS: \")\n",
    "print(\"Accuracy :\", round(acc, 3))\n",
    "print(\"Precision:\", round(prec, 3))\n",
    "print(\"Recall  :\", round(rec, 3))\n",
    "print(\"F1 :\", round(f1, 3))\n",
    "print(\"ROC-AUC :\", round(auc, 3))\n",
    "print(\"Confusion Matrix:\\n\", cm)\n",
    "\n",
    "#  Show ROC curve for the test set\n",
    "RocCurveDisplay.from_estimator(final_model, x_test, y_test)\n",
    "plt.title(\"ROC Curve - Final Test\")\n",
    "plt.tight_layout()\n",
    "plt.show()"
   ]
  }
 ],
 "metadata": {
  "kernelspec": {
   "display_name": "base",
   "language": "python",
   "name": "python3"
  },
  "language_info": {
   "codemirror_mode": {
    "name": "ipython",
    "version": 3
   },
   "file_extension": ".py",
   "mimetype": "text/x-python",
   "name": "python",
   "nbconvert_exporter": "python",
   "pygments_lexer": "ipython3",
   "version": "3.13.5"
  }
 },
 "nbformat": 4,
 "nbformat_minor": 5
}
